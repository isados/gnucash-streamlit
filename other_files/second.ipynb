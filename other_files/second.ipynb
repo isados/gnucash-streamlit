{
 "cells": [
  {
   "cell_type": "markdown",
   "metadata": {},
   "source": [
    "## Import Packages"
   ]
  },
  {
   "cell_type": "code",
   "execution_count": 1,
   "metadata": {},
   "outputs": [],
   "source": [
    "import piecash as pc\n",
    "from piecash import Transaction, ledger, Split\n",
    "from piecash.core.factories import single_transaction"
   ]
  },
  {
   "cell_type": "code",
   "execution_count": 2,
   "metadata": {},
   "outputs": [],
   "source": [
    "# !pip install --upgrade pandas"
   ]
  },
  {
   "cell_type": "markdown",
   "metadata": {},
   "source": [
    "## Read Gnucash file & Create Fast Food Expense"
   ]
  },
  {
   "cell_type": "code",
   "execution_count": 11,
   "metadata": {},
   "outputs": [
    {
     "name": "stdout",
     "output_type": "stream",
     "text": [
      "[Commodity<CURRENCY:BHD>, Commodity<Coupons:water-coupon>, Commodity<Crypto:ETH-USD>, Commodity<template:template>, Commodity<CURRENCY:USD>]\n",
      "[Account<Incomes[BHD]>, Account<Incomes:Salary[BHD]>, Account<Equity[BHD]>, Account<Equity:Opening Balances - BHD[BHD]>, Account<Imbalance-BHD[BHD]>, Account<Orphan-BHD[BHD]>, Account<Liabilities[BHD]>, Account<Liabilities:Coldstore Credit[BHD]>, Account<Liabilities:Mastercard[BHD]>, Account<Asset[BHD]>, Account<Asset:Current Assets[BHD]>, Account<Asset:Current Assets:Cash[BHD]>, Account<Asset:Current Assets:Receivables[BHD]>, Account<Asset:Current Assets:Receivables:Brother[BHD]>, Account<Asset:Current Assets:Receivables:Chloe[BHD]>, Account<Asset:Current Assets:Receivables:Work Receivable[BHD]>, Account<Asset:Current Assets:Receivables:Mustafa Kamal[BHD]>, Account<Asset:Current Assets:BisB[BHD]>, Account<Asset:Current Assets:BBK[BHD]>, Account<Asset:Current Assets:Other[BHD]>, Account<Asset:Current Assets:Other:Water Coupons[water-coupon]>, Account<Asset:Investments[BHD]>, Account<Asset:Investments:Ethereum[ETH-USD]>, Account<Asset:Investments:Unrealized Gains[BHD]>, Account<Expenses[BHD]>, Account<Expenses:Unrealized Loss[BHD]>, Account<Expenses:Wants[BHD]>, Account<Expenses:Wants:Subscription | Google One[BHD]>, Account<Expenses:Wants:Fast Food[BHD]>, Account<Expenses:Needs[BHD]>, Account<Expenses:Needs:Car Expenses[BHD]>, Account<Expenses:Needs:Car Expenses:Petrol[BHD]>, Account<Expenses:Needs:Car Expenses:Wash[BHD]>, Account<Expenses:Needs:MOJ Allowance[BHD]>, Account<Expenses:Needs:Groceries[BHD]>, Account<Expenses:Needs:Phone[BHD]>, Account<Expenses:Needs:Gym[BHD]>, Account<Expenses:Needs:Medical[BHD]>, Account<0dfc25d3ae0d424aae87eee4c301e8fc[template]>]\n",
      "2022-10-22 Random Burger\n",
      "\tAsset:Current Assets:BBK                  BHD -10.000\n",
      "\tExpenses:Wants:Fast Food                  BHD 10.000\n",
      "\n"
     ]
    }
   ],
   "source": [
    "with pc.open_book(uri_conn=\"postgres://postgres@localhost/gnucash-backup\",\n",
    "    readonly=False,\n",
    "    do_backup=False) as book:\n",
    "    # Create a Food Expense\n",
    "    bank_acc = book.accounts(name='BBK')\n",
    "    food_expense_acc = book.accounts(name='Fast Food')\n",
    "    txn = single_transaction(\n",
    "        # post_date, enter_date, description, value, from_account, to_account\n",
    "        None, None, 'Random Burger', 10, bank_acc, food_expense_acc\n",
    "    )\n",
    "    print(ledger(txn))\n",
    "    book.save()"
   ]
  },
  {
   "cell_type": "markdown",
   "metadata": {},
   "source": [
    "## Check if Book Works"
   ]
  },
  {
   "cell_type": "code",
   "execution_count": 3,
   "metadata": {},
   "outputs": [
    {
     "name": "stdout",
     "output_type": "stream",
     "text": [
      "Account<Expenses:Wants[BHD]>\n"
     ]
    }
   ],
   "source": [
    "with pc.open_book(\"sqlite:///sqlversion.gnucash\") as book:\n",
    "    root = book.root_account              # select the root_account\n",
    "    expense = root.children(type=\"EXPENSE\")   # select child account by name\n",
    "    print(expense.children(name='Wants'))"
   ]
  },
  {
   "cell_type": "code",
   "execution_count": 8,
   "metadata": {},
   "outputs": [
    {
     "data": {
      "text/plain": [
       "['gnclock',\n",
       " 'versions',\n",
       " 'books',\n",
       " 'commodities',\n",
       " 'accounts',\n",
       " 'budgets',\n",
       " 'budget_amounts',\n",
       " 'sqlite_sequence',\n",
       " 'prices',\n",
       " 'transactions',\n",
       " 'splits',\n",
       " 'slots',\n",
       " 'recurrences',\n",
       " 'schedxactions',\n",
       " 'lots',\n",
       " 'billterms',\n",
       " 'customers',\n",
       " 'employees',\n",
       " 'entries',\n",
       " 'invoices',\n",
       " 'jobs',\n",
       " 'orders',\n",
       " 'taxtables',\n",
       " 'taxtable_entries',\n",
       " 'vendors']"
      ]
     },
     "execution_count": 8,
     "metadata": {},
     "output_type": "execute_result"
    }
   ],
   "source": [
    "from pandas import read_sql_query, read_sql_table\n",
    "import pandas as pd\n",
    "import sqlite3\n",
    "def read_tables(dbfile):\n",
    "    \n",
    "    \n",
    "\n",
    "    with sqlite3.connect(dbfile) as dbcon:\n",
    "        tables = list(read_sql_query(\"SELECT name FROM sqlite_master WHERE type='table';\", dbcon)['name'])\n",
    "    \n",
    "        # out = {tbl : read_sql_query(f\"SELECT * from {tbl}\", dbcon) for tbl in tables}\n",
    "    \n",
    "    return tables\n",
    "DB = 'sqlversion.gnucash'\n",
    "read_tables(DB)\n",
    "\n"
   ]
  },
  {
   "cell_type": "code",
   "execution_count": 13,
   "metadata": {},
   "outputs": [
    {
     "data": {
      "text/html": [
       "<div>\n",
       "<style scoped>\n",
       "    .dataframe tbody tr th:only-of-type {\n",
       "        vertical-align: middle;\n",
       "    }\n",
       "\n",
       "    .dataframe tbody tr th {\n",
       "        vertical-align: top;\n",
       "    }\n",
       "\n",
       "    .dataframe thead th {\n",
       "        text-align: right;\n",
       "    }\n",
       "</style>\n",
       "<table border=\"1\" class=\"dataframe\">\n",
       "  <thead>\n",
       "    <tr style=\"text-align: right;\">\n",
       "      <th></th>\n",
       "      <th>guid</th>\n",
       "      <th>currency_guid</th>\n",
       "      <th>num</th>\n",
       "      <th>post_date</th>\n",
       "      <th>enter_date</th>\n",
       "      <th>description</th>\n",
       "    </tr>\n",
       "  </thead>\n",
       "  <tbody>\n",
       "    <tr>\n",
       "      <th>0</th>\n",
       "      <td>63222ad21c57431ea03e6d1ed9c4144e</td>\n",
       "      <td>b7f57e3e7a5e474cac6ee899af7858b3</td>\n",
       "      <td></td>\n",
       "      <td>2022-10-12 10:59:00</td>\n",
       "      <td>2022-10-11 13:13:09</td>\n",
       "      <td>September 2022 Salary</td>\n",
       "    </tr>\n",
       "    <tr>\n",
       "      <th>1</th>\n",
       "      <td>959183da8ee64f1b8808ddde1bd839d2</td>\n",
       "      <td>b7f57e3e7a5e474cac6ee899af7858b3</td>\n",
       "      <td></td>\n",
       "      <td>2022-11-09 10:59:00</td>\n",
       "      <td>2022-11-09 11:49:30</td>\n",
       "      <td>October 2022 Salary</td>\n",
       "    </tr>\n",
       "    <tr>\n",
       "      <th>2</th>\n",
       "      <td>c541fb04449f43aba118e30f9d9f6170</td>\n",
       "      <td>b7f57e3e7a5e474cac6ee899af7858b3</td>\n",
       "      <td></td>\n",
       "      <td>2022-12-11 10:59:00</td>\n",
       "      <td>2022-12-12 09:51:55</td>\n",
       "      <td>November 2022 Salary</td>\n",
       "    </tr>\n",
       "    <tr>\n",
       "      <th>3</th>\n",
       "      <td>56fecca4d1814f64b5e630adeea12cf8</td>\n",
       "      <td>b7f57e3e7a5e474cac6ee899af7858b3</td>\n",
       "      <td></td>\n",
       "      <td>2023-01-11 10:59:00</td>\n",
       "      <td>2023-01-11 09:17:16</td>\n",
       "      <td>December 2022 Salary</td>\n",
       "    </tr>\n",
       "    <tr>\n",
       "      <th>4</th>\n",
       "      <td>af96c4ef3b3d47d1a1ae41f6fd401d00</td>\n",
       "      <td>b7f57e3e7a5e474cac6ee899af7858b3</td>\n",
       "      <td>6</td>\n",
       "      <td>2022-10-12 10:59:00</td>\n",
       "      <td>2022-10-13 12:05:58</td>\n",
       "      <td>Healty Calorie</td>\n",
       "    </tr>\n",
       "    <tr>\n",
       "      <th>...</th>\n",
       "      <td>...</td>\n",
       "      <td>...</td>\n",
       "      <td>...</td>\n",
       "      <td>...</td>\n",
       "      <td>...</td>\n",
       "      <td>...</td>\n",
       "    </tr>\n",
       "    <tr>\n",
       "      <th>556</th>\n",
       "      <td>06f2b08b5cff4aeeaf4fe0b2dc3bc4e1</td>\n",
       "      <td>b7f57e3e7a5e474cac6ee899af7858b3</td>\n",
       "      <td></td>\n",
       "      <td>2023-01-11 10:59:00</td>\n",
       "      <td>2023-01-14 21:20:24</td>\n",
       "      <td>Fawri Transfer</td>\n",
       "    </tr>\n",
       "    <tr>\n",
       "      <th>557</th>\n",
       "      <td>6770e1600b3444898b369dd165a8041d</td>\n",
       "      <td>b7f57e3e7a5e474cac6ee899af7858b3</td>\n",
       "      <td></td>\n",
       "      <td>2023-01-12 10:59:00</td>\n",
       "      <td>2023-01-14 21:21:40</td>\n",
       "      <td>Fawri Transfer</td>\n",
       "    </tr>\n",
       "    <tr>\n",
       "      <th>558</th>\n",
       "      <td>f3af146329ea4acc8bed112d2a230e3b</td>\n",
       "      <td>b7f57e3e7a5e474cac6ee899af7858b3</td>\n",
       "      <td></td>\n",
       "      <td>2022-10-18 10:59:00</td>\n",
       "      <td>2022-10-20 12:59:56</td>\n",
       "      <td>Ila Topup</td>\n",
       "    </tr>\n",
       "    <tr>\n",
       "      <th>559</th>\n",
       "      <td>71b93545e5df4d6d8409d8199f22ac55</td>\n",
       "      <td>b7f57e3e7a5e474cac6ee899af7858b3</td>\n",
       "      <td></td>\n",
       "      <td>2022-10-22 10:59:00</td>\n",
       "      <td>2022-10-22 14:16:34</td>\n",
       "      <td>Mastercard Payment via BFC</td>\n",
       "    </tr>\n",
       "    <tr>\n",
       "      <th>560</th>\n",
       "      <td>7c6ef7191888442393f5d5e316581ca3</td>\n",
       "      <td>b7f57e3e7a5e474cac6ee899af7858b3</td>\n",
       "      <td></td>\n",
       "      <td>2022-10-12 10:59:00</td>\n",
       "      <td>2022-10-11 22:01:16</td>\n",
       "      <td>Allowance Transfer</td>\n",
       "    </tr>\n",
       "  </tbody>\n",
       "</table>\n",
       "<p>561 rows × 6 columns</p>\n",
       "</div>"
      ],
      "text/plain": [
       "                                 guid                     currency_guid num  \\\n",
       "0    63222ad21c57431ea03e6d1ed9c4144e  b7f57e3e7a5e474cac6ee899af7858b3       \n",
       "1    959183da8ee64f1b8808ddde1bd839d2  b7f57e3e7a5e474cac6ee899af7858b3       \n",
       "2    c541fb04449f43aba118e30f9d9f6170  b7f57e3e7a5e474cac6ee899af7858b3       \n",
       "3    56fecca4d1814f64b5e630adeea12cf8  b7f57e3e7a5e474cac6ee899af7858b3       \n",
       "4    af96c4ef3b3d47d1a1ae41f6fd401d00  b7f57e3e7a5e474cac6ee899af7858b3   6   \n",
       "..                                ...                               ...  ..   \n",
       "556  06f2b08b5cff4aeeaf4fe0b2dc3bc4e1  b7f57e3e7a5e474cac6ee899af7858b3       \n",
       "557  6770e1600b3444898b369dd165a8041d  b7f57e3e7a5e474cac6ee899af7858b3       \n",
       "558  f3af146329ea4acc8bed112d2a230e3b  b7f57e3e7a5e474cac6ee899af7858b3       \n",
       "559  71b93545e5df4d6d8409d8199f22ac55  b7f57e3e7a5e474cac6ee899af7858b3       \n",
       "560  7c6ef7191888442393f5d5e316581ca3  b7f57e3e7a5e474cac6ee899af7858b3       \n",
       "\n",
       "               post_date           enter_date                 description  \n",
       "0    2022-10-12 10:59:00  2022-10-11 13:13:09       September 2022 Salary  \n",
       "1    2022-11-09 10:59:00  2022-11-09 11:49:30         October 2022 Salary  \n",
       "2    2022-12-11 10:59:00  2022-12-12 09:51:55        November 2022 Salary  \n",
       "3    2023-01-11 10:59:00  2023-01-11 09:17:16        December 2022 Salary  \n",
       "4    2022-10-12 10:59:00  2022-10-13 12:05:58              Healty Calorie  \n",
       "..                   ...                  ...                         ...  \n",
       "556  2023-01-11 10:59:00  2023-01-14 21:20:24              Fawri Transfer  \n",
       "557  2023-01-12 10:59:00  2023-01-14 21:21:40              Fawri Transfer  \n",
       "558  2022-10-18 10:59:00  2022-10-20 12:59:56                   Ila Topup  \n",
       "559  2022-10-22 10:59:00  2022-10-22 14:16:34  Mastercard Payment via BFC  \n",
       "560  2022-10-12 10:59:00  2022-10-11 22:01:16          Allowance Transfer  \n",
       "\n",
       "[561 rows x 6 columns]"
      ]
     },
     "execution_count": 13,
     "metadata": {},
     "output_type": "execute_result"
    }
   ],
   "source": [
    "def read_table(table):\n",
    "    with sqlite3.connect(DB) as dbcon:\n",
    "        # tbl = read_sql_table(table, dbcon)\n",
    "        df = pd.read_sql(f\"select * from {table}\", con=dbcon)\n",
    "    return df\n",
    "\n",
    "read_table('transactions')"
   ]
  },
  {
   "cell_type": "code",
   "execution_count": 39,
   "metadata": {},
   "outputs": [
    {
     "ename": "AttributeError",
     "evalue": "'Inspector' object has no attribute 'has_table'",
     "output_type": "error",
     "traceback": [
      "\u001b[0;31m---------------------------------------------------------------------------\u001b[0m",
      "\u001b[0;31mAttributeError\u001b[0m                            Traceback (most recent call last)",
      "Cell \u001b[0;32mIn [39], line 1\u001b[0m\n\u001b[0;32m----> 1\u001b[0m \u001b[43mread_sql_table\u001b[49m\u001b[43m(\u001b[49m\u001b[38;5;124;43m'\u001b[39;49m\u001b[38;5;124;43mentries\u001b[39;49m\u001b[38;5;124;43m'\u001b[39;49m\u001b[43m,\u001b[49m\u001b[43m \u001b[49m\u001b[38;5;124;43mf\u001b[39;49m\u001b[38;5;124;43m'\u001b[39;49m\u001b[38;5;124;43msqlite:///\u001b[39;49m\u001b[38;5;132;43;01m{\u001b[39;49;00m\u001b[43mDB\u001b[49m\u001b[38;5;132;43;01m}\u001b[39;49;00m\u001b[38;5;124;43m'\u001b[39;49m\u001b[43m)\u001b[49m\n",
      "File \u001b[0;32m~/.pyenv/versions/3.8.5/lib/python3.8/site-packages/pandas/io/sql.py:281\u001b[0m, in \u001b[0;36mread_sql_table\u001b[0;34m(table_name, con, schema, index_col, coerce_float, parse_dates, columns, chunksize)\u001b[0m\n\u001b[1;32m    225\u001b[0m \u001b[38;5;124;03m\"\"\"\u001b[39;00m\n\u001b[1;32m    226\u001b[0m \u001b[38;5;124;03mRead SQL database table into a DataFrame.\u001b[39;00m\n\u001b[1;32m    227\u001b[0m \n\u001b[0;32m   (...)\u001b[0m\n\u001b[1;32m    278\u001b[0m \u001b[38;5;124;03m>>> pd.read_sql_table('table_name', 'postgres:///db_name')  # doctest:+SKIP\u001b[39;00m\n\u001b[1;32m    279\u001b[0m \u001b[38;5;124;03m\"\"\"\u001b[39;00m\n\u001b[1;32m    280\u001b[0m pandas_sql \u001b[38;5;241m=\u001b[39m pandasSQL_builder(con, schema\u001b[38;5;241m=\u001b[39mschema)\n\u001b[0;32m--> 281\u001b[0m \u001b[38;5;28;01mif\u001b[39;00m \u001b[38;5;129;01mnot\u001b[39;00m \u001b[43mpandas_sql\u001b[49m\u001b[38;5;241;43m.\u001b[39;49m\u001b[43mhas_table\u001b[49m\u001b[43m(\u001b[49m\u001b[43mtable_name\u001b[49m\u001b[43m)\u001b[49m:\n\u001b[1;32m    282\u001b[0m     \u001b[38;5;28;01mraise\u001b[39;00m \u001b[38;5;167;01mValueError\u001b[39;00m(\u001b[38;5;124mf\u001b[39m\u001b[38;5;124m\"\u001b[39m\u001b[38;5;124mTable \u001b[39m\u001b[38;5;132;01m{\u001b[39;00mtable_name\u001b[38;5;132;01m}\u001b[39;00m\u001b[38;5;124m not found\u001b[39m\u001b[38;5;124m\"\u001b[39m)\n\u001b[1;32m    284\u001b[0m \u001b[38;5;66;03m# error: Item \"SQLiteDatabase\" of \"Union[SQLDatabase, SQLiteDatabase]\"\u001b[39;00m\n\u001b[1;32m    285\u001b[0m \u001b[38;5;66;03m# has no attribute \"read_table\"\u001b[39;00m\n",
      "File \u001b[0;32m~/.pyenv/versions/3.8.5/lib/python3.8/site-packages/pandas/io/sql.py:1761\u001b[0m, in \u001b[0;36mSQLDatabase.has_table\u001b[0;34m(self, name, schema)\u001b[0m\n\u001b[1;32m   1758\u001b[0m \u001b[38;5;28;01mfrom\u001b[39;00m \u001b[38;5;21;01msqlalchemy\u001b[39;00m \u001b[38;5;28;01mimport\u001b[39;00m inspect \u001b[38;5;28;01mas\u001b[39;00m sqlalchemy_inspect\n\u001b[1;32m   1760\u001b[0m insp \u001b[38;5;241m=\u001b[39m sqlalchemy_inspect(\u001b[38;5;28mself\u001b[39m\u001b[38;5;241m.\u001b[39mconnectable)\n\u001b[0;32m-> 1761\u001b[0m \u001b[38;5;28;01mreturn\u001b[39;00m \u001b[43minsp\u001b[49m\u001b[38;5;241;43m.\u001b[39;49m\u001b[43mhas_table\u001b[49m(name, schema \u001b[38;5;129;01mor\u001b[39;00m \u001b[38;5;28mself\u001b[39m\u001b[38;5;241m.\u001b[39mmeta\u001b[38;5;241m.\u001b[39mschema)\n",
      "\u001b[0;31mAttributeError\u001b[0m: 'Inspector' object has no attribute 'has_table'"
     ]
    }
   ],
   "source": [
    "read_sql_table('entries', f'sqlite:///{DB}')"
   ]
  },
  {
   "cell_type": "code",
   "execution_count": null,
   "metadata": {},
   "outputs": [],
   "source": []
  }
 ],
 "metadata": {
  "kernelspec": {
   "display_name": "Python 3 (ipykernel)",
   "language": "python",
   "name": "python3"
  },
  "language_info": {
   "codemirror_mode": {
    "name": "ipython",
    "version": 3
   },
   "file_extension": ".py",
   "mimetype": "text/x-python",
   "name": "python",
   "nbconvert_exporter": "python",
   "pygments_lexer": "ipython3",
   "version": "3.8.5"
  },
  "vscode": {
   "interpreter": {
    "hash": "d2070f4a69c400c2d09a45d3c61e2b186b8a3e946efedb6b7936a83dd4efdbaf"
   }
  }
 },
 "nbformat": 4,
 "nbformat_minor": 4
}
